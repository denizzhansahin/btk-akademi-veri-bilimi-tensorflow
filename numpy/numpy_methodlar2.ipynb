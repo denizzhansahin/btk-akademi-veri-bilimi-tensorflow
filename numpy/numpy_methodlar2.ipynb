{
 "cells": [
  {
   "cell_type": "code",
   "execution_count": 1,
   "metadata": {},
   "outputs": [],
   "source": [
    "import numpy as np"
   ]
  },
  {
   "cell_type": "code",
   "execution_count": 3,
   "metadata": {},
   "outputs": [
    {
     "data": {
      "text/plain": [
       "array([ 0.80866908, -0.44306661,  0.9869926 ,  1.67647149, -0.90156386,\n",
       "       -0.31150501, -0.50820162,  1.3444682 ])"
      ]
     },
     "execution_count": 3,
     "metadata": {},
     "output_type": "execute_result"
    }
   ],
   "source": [
    "np.random.randn(8) #dizi olarak #rastegel değerler üretmek"
   ]
  },
  {
   "cell_type": "code",
   "execution_count": 4,
   "metadata": {},
   "outputs": [
    {
     "data": {
      "text/plain": [
       "array([[0.34298656, 0.85802904, 0.36829034, 0.27979867, 0.70570047,\n",
       "        0.29104156, 0.89505504, 0.70516057],\n",
       "       [0.72913555, 0.79246654, 0.42530879, 0.07129052, 0.7086001 ,\n",
       "        0.80458388, 0.13590295, 0.41501673],\n",
       "       [0.17112388, 0.85978551, 0.03589674, 0.03384785, 0.71894336,\n",
       "        0.23343134, 0.27892764, 0.10409592],\n",
       "       [0.01165024, 0.93350104, 0.49722952, 0.67368399, 0.64317553,\n",
       "        0.91883864, 0.3641179 , 0.97474373],\n",
       "       [0.40146167, 0.38526046, 0.82553636, 0.48824491, 0.06549232,\n",
       "        0.19890214, 0.15119845, 0.26513512],\n",
       "       [0.62481332, 0.46845558, 0.74137971, 0.86024843, 0.34463693,\n",
       "        0.12617935, 0.30693097, 0.00736685],\n",
       "       [0.75825774, 0.37109227, 0.61207559, 0.17274025, 0.72667227,\n",
       "        0.73373649, 0.55762454, 0.61741713],\n",
       "       [0.52533024, 0.60504261, 0.31441876, 0.81570003, 0.02043625,\n",
       "        0.72738143, 0.4781633 , 0.5091676 ]])"
      ]
     },
     "execution_count": 4,
     "metadata": {},
     "output_type": "execute_result"
    }
   ],
   "source": [
    "np.random.rand(8,8) #matrix olarak yapma"
   ]
  },
  {
   "cell_type": "code",
   "execution_count": 8,
   "metadata": {},
   "outputs": [
    {
     "data": {
      "text/plain": [
       "25"
      ]
     },
     "execution_count": 8,
     "metadata": {},
     "output_type": "execute_result"
    }
   ],
   "source": [
    "np.random.randint(1,50) #tek bir değer döndürme #istenilen değerler arasında #son rakam alınmaz"
   ]
  },
  {
   "cell_type": "code",
   "execution_count": 9,
   "metadata": {},
   "outputs": [
    {
     "data": {
      "text/plain": [
       "array([21, 36, 17, 40,  3])"
      ]
     },
     "execution_count": 9,
     "metadata": {},
     "output_type": "execute_result"
    }
   ],
   "source": [
    "np.random.randint(1,50,5) #istenilen kadar sayı döndür"
   ]
  },
  {
   "cell_type": "code",
   "execution_count": 10,
   "metadata": {},
   "outputs": [],
   "source": [
    "my_numpy_series = np.arange(30)"
   ]
  },
  {
   "cell_type": "code",
   "execution_count": 11,
   "metadata": {},
   "outputs": [
    {
     "data": {
      "text/plain": [
       "array([ 0,  1,  2,  3,  4,  5,  6,  7,  8,  9, 10, 11, 12, 13, 14, 15, 16,\n",
       "       17, 18, 19, 20, 21, 22, 23, 24, 25, 26, 27, 28, 29])"
      ]
     },
     "execution_count": 11,
     "metadata": {},
     "output_type": "execute_result"
    }
   ],
   "source": [
    "my_numpy_series"
   ]
  },
  {
   "cell_type": "code",
   "execution_count": 14,
   "metadata": {},
   "outputs": [],
   "source": [
    "my_random_series = np.random.randint(0,100,30)"
   ]
  },
  {
   "cell_type": "code",
   "execution_count": 15,
   "metadata": {},
   "outputs": [
    {
     "data": {
      "text/plain": [
       "array([78, 74, 30, 49, 27, 88, 57, 80, 58, 37, 26, 98,  8, 90, 76, 66, 26,\n",
       "       69, 67, 68, 62, 89, 67, 83, 62,  0,  7, 97, 19, 15])"
      ]
     },
     "execution_count": 15,
     "metadata": {},
     "output_type": "execute_result"
    }
   ],
   "source": [
    "my_random_series"
   ]
  }
 ],
 "metadata": {
  "kernelspec": {
   "display_name": "Python 3",
   "language": "python",
   "name": "python3"
  },
  "language_info": {
   "codemirror_mode": {
    "name": "ipython",
    "version": 3
   },
   "file_extension": ".py",
   "mimetype": "text/x-python",
   "name": "python",
   "nbconvert_exporter": "python",
   "pygments_lexer": "ipython3",
   "version": "3.9.2"
  },
  "orig_nbformat": 4
 },
 "nbformat": 4,
 "nbformat_minor": 2
}
