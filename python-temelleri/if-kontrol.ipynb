{
 "cells": [
  {
   "cell_type": "code",
   "execution_count": 1,
   "metadata": {},
   "outputs": [
    {
     "data": {
      "text/plain": [
       "True"
      ]
     },
     "execution_count": 1,
     "metadata": {},
     "output_type": "execute_result"
    }
   ],
   "source": [
    "3 > 1"
   ]
  },
  {
   "cell_type": "code",
   "execution_count": 3,
   "metadata": {},
   "outputs": [
    {
     "name": "stdout",
     "output_type": "stream",
     "text": [
      "if koşulundan çıktık\n"
     ]
    }
   ],
   "source": [
    "if 3 > 4:\n",
    "    print(\"denizhan şahin\")\n",
    "    print(\"if koşulu sağlandı\")\n",
    "print(\"if koşulundan çıktık\")"
   ]
  },
  {
   "cell_type": "code",
   "execution_count": 4,
   "metadata": {},
   "outputs": [],
   "source": [
    "x = 5"
   ]
  },
  {
   "cell_type": "code",
   "execution_count": 5,
   "metadata": {},
   "outputs": [],
   "source": [
    "y = 4"
   ]
  },
  {
   "cell_type": "code",
   "execution_count": 9,
   "metadata": {},
   "outputs": [
    {
     "name": "stdout",
     "output_type": "stream",
     "text": [
      "y ve x birbirine eşitmiş\n"
     ]
    }
   ],
   "source": [
    "x = 4\n",
    "y = 4\n",
    "if x > y:\n",
    "    print(\"x, y'den büyükmüş\")\n",
    "elif y>x:\n",
    "    print(\"y, x'den büyükmüş\")\n",
    "else:\n",
    "    print(\"y ve x birbirine eşitmiş\")"
   ]
  },
  {
   "cell_type": "code",
   "execution_count": 10,
   "metadata": {},
   "outputs": [
    {
     "name": "stdout",
     "output_type": "stream",
     "text": [
      "y, x'den büyükmüş\n"
     ]
    }
   ],
   "source": [
    "x = 3\n",
    "y = 4\n",
    "if x > y:\n",
    "    print(\"x, y'den büyükmüş\")\n",
    "elif y>x:\n",
    "    print(\"y, x'den büyükmüş\")\n",
    "else:\n",
    "    print(\"y ve x birbirine eşitmiş\")"
   ]
  }
 ],
 "metadata": {
  "kernelspec": {
   "display_name": "Python 3",
   "language": "python",
   "name": "python3"
  },
  "language_info": {
   "codemirror_mode": {
    "name": "ipython",
    "version": 3
   },
   "file_extension": ".py",
   "mimetype": "text/x-python",
   "name": "python",
   "nbconvert_exporter": "python",
   "pygments_lexer": "ipython3",
   "version": "3.9.2"
  },
  "orig_nbformat": 4
 },
 "nbformat": 4,
 "nbformat_minor": 2
}
