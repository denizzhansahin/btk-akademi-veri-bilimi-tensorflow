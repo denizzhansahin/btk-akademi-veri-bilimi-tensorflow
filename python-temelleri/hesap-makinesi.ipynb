{
 "cells": [
  {
   "cell_type": "code",
   "execution_count": 2,
   "metadata": {},
   "outputs": [
    {
     "data": {
      "text/plain": [
       "'333333 + 44444444444 = 44444777777'"
      ]
     },
     "execution_count": 2,
     "metadata": {},
     "output_type": "execute_result"
    }
   ],
   "source": [
    "def hesapla(a,b,islem):\n",
    "    if islem == \"+\":\n",
    "        return (str(a) + \" + \" + str(b) + \" = \" + str(a+b))\n",
    "    if islem == \"-\":\n",
    "        return (str(a) + \" - \" + str(b) + \" = \" + str(a-b))\n",
    "    if islem == \"*\":\n",
    "        return (str(a) + \" * \" + str(b) + \" = \" + str(a*b))\n",
    "    if islem == \"/\":\n",
    "        return (str(a) + \" /\" + str(b) + \" = \" + str(a/b))\n",
    "    \n",
    "\n",
    "a = int(input(\"İlk sayı : \"))\n",
    "b = int(input(\"İkinci sayı : \"))\n",
    "\n",
    "islem = input(\"İşlemi seçiniz : +-*/ \")\n",
    "hesapla(a,b,islem)"
   ]
  },
  {
   "cell_type": "code",
   "execution_count": 3,
   "metadata": {},
   "outputs": [
    {
     "ename": "ValueError",
     "evalue": "invalid literal for int() with base 10: 'x232'",
     "output_type": "error",
     "traceback": [
      "\u001b[0;31m---------------------------------------------------------------------------\u001b[0m",
      "\u001b[0;31mValueError\u001b[0m                                Traceback (most recent call last)",
      "Cell \u001b[0;32mIn[3], line 1\u001b[0m\n\u001b[0;32m----> 1\u001b[0m a \u001b[39m=\u001b[39m \u001b[39mint\u001b[39;49m(\u001b[39minput\u001b[39;49m(\u001b[39m\"\u001b[39;49m\u001b[39mİlk sayı : \u001b[39;49m\u001b[39m\"\u001b[39;49m))\n\u001b[1;32m      2\u001b[0m b \u001b[39m=\u001b[39m \u001b[39mint\u001b[39m(\u001b[39minput\u001b[39m(\u001b[39m\"\u001b[39m\u001b[39mİkinci sayı : \u001b[39m\u001b[39m\"\u001b[39m))\n\u001b[1;32m      4\u001b[0m islem \u001b[39m=\u001b[39m \u001b[39minput\u001b[39m(\u001b[39m\"\u001b[39m\u001b[39mİşlemi seçiniz : +-*/ \u001b[39m\u001b[39m\"\u001b[39m)\n",
      "\u001b[0;31mValueError\u001b[0m: invalid literal for int() with base 10: 'x232'"
     ]
    }
   ],
   "source": [
    "a = int(input(\"İlk sayı : \"))\n",
    "b = int(input(\"İkinci sayı : \"))\n",
    "\n",
    "islem = input(\"İşlemi seçiniz : +-*/ \")\n",
    "hesapla(a,b,islem)"
   ]
  },
  {
   "cell_type": "code",
   "execution_count": 4,
   "metadata": {},
   "outputs": [
    {
     "name": "stdout",
     "output_type": "stream",
     "text": [
      "Lütfen istenilen değerleri yazınız.\n",
      "Lütfen istenilen değerleri yazınız.\n",
      "Lütfen istenilen değerleri yazınız.\n",
      "Lütfen istenilen değerleri yazınız.\n",
      "Lütfen istenilen değerleri yazınız.\n",
      "Lütfen istenilen değerleri yazınız.\n",
      "None\n",
      "12431243 - 41234 = 12390009\n",
      "Lütfen istenilen değerleri yazınız.\n",
      "Lütfen istenilen değerleri yazınız.\n",
      "Lütfen istenilen değerleri yazınız.\n"
     ]
    }
   ],
   "source": [
    "while True:\n",
    "    try:\n",
    "        a = int(input(\"İlk sayı : \"))\n",
    "        b = int(input(\"İkinci sayı : \"))\n",
    "\n",
    "        islem = input(\"İşlemi seçiniz : +-*/ \")\n",
    "        print(hesapla(a,b,islem))\n",
    "    except:\n",
    "        print(\"Lütfen istenilen değerleri yazınız.\")"
   ]
  }
 ],
 "metadata": {
  "kernelspec": {
   "display_name": "Python 3",
   "language": "python",
   "name": "python3"
  },
  "language_info": {
   "codemirror_mode": {
    "name": "ipython",
    "version": 3
   },
   "file_extension": ".py",
   "mimetype": "text/x-python",
   "name": "python",
   "nbconvert_exporter": "python",
   "pygments_lexer": "ipython3",
   "version": "3.9.2"
  },
  "orig_nbformat": 4
 },
 "nbformat": 4,
 "nbformat_minor": 2
}
