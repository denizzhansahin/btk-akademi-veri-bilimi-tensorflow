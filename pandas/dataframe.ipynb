{
 "cells": [
  {
   "cell_type": "code",
   "execution_count": 1,
   "metadata": {},
   "outputs": [],
   "source": [
    "import pandas as pd\n",
    "import numpy as np"
   ]
  },
  {
   "cell_type": "code",
   "execution_count": 4,
   "metadata": {},
   "outputs": [],
   "source": [
    "data = np.random.rand(4,3)"
   ]
  },
  {
   "cell_type": "code",
   "execution_count": 5,
   "metadata": {},
   "outputs": [
    {
     "data": {
      "text/plain": [
       "array([[0.93602025, 0.18186223, 0.44022932],\n",
       "       [0.44912956, 0.67494651, 0.06918529],\n",
       "       [0.77438091, 0.16605067, 0.20346378],\n",
       "       [0.33646387, 0.11703642, 0.74491573]])"
      ]
     },
     "execution_count": 5,
     "metadata": {},
     "output_type": "execute_result"
    }
   ],
   "source": [
    "data"
   ]
  },
  {
   "cell_type": "code",
   "execution_count": 6,
   "metadata": {},
   "outputs": [],
   "source": [
    "dataFrame = pd.DataFrame(data)"
   ]
  },
  {
   "cell_type": "code",
   "execution_count": 7,
   "metadata": {},
   "outputs": [
    {
     "data": {
      "text/html": [
       "<div>\n",
       "<style scoped>\n",
       "    .dataframe tbody tr th:only-of-type {\n",
       "        vertical-align: middle;\n",
       "    }\n",
       "\n",
       "    .dataframe tbody tr th {\n",
       "        vertical-align: top;\n",
       "    }\n",
       "\n",
       "    .dataframe thead th {\n",
       "        text-align: right;\n",
       "    }\n",
       "</style>\n",
       "<table border=\"1\" class=\"dataframe\">\n",
       "  <thead>\n",
       "    <tr style=\"text-align: right;\">\n",
       "      <th></th>\n",
       "      <th>0</th>\n",
       "      <th>1</th>\n",
       "      <th>2</th>\n",
       "    </tr>\n",
       "  </thead>\n",
       "  <tbody>\n",
       "    <tr>\n",
       "      <th>0</th>\n",
       "      <td>0.936020</td>\n",
       "      <td>0.181862</td>\n",
       "      <td>0.440229</td>\n",
       "    </tr>\n",
       "    <tr>\n",
       "      <th>1</th>\n",
       "      <td>0.449130</td>\n",
       "      <td>0.674947</td>\n",
       "      <td>0.069185</td>\n",
       "    </tr>\n",
       "    <tr>\n",
       "      <th>2</th>\n",
       "      <td>0.774381</td>\n",
       "      <td>0.166051</td>\n",
       "      <td>0.203464</td>\n",
       "    </tr>\n",
       "    <tr>\n",
       "      <th>3</th>\n",
       "      <td>0.336464</td>\n",
       "      <td>0.117036</td>\n",
       "      <td>0.744916</td>\n",
       "    </tr>\n",
       "  </tbody>\n",
       "</table>\n",
       "</div>"
      ],
      "text/plain": [
       "          0         1         2\n",
       "0  0.936020  0.181862  0.440229\n",
       "1  0.449130  0.674947  0.069185\n",
       "2  0.774381  0.166051  0.203464\n",
       "3  0.336464  0.117036  0.744916"
      ]
     },
     "execution_count": 7,
     "metadata": {},
     "output_type": "execute_result"
    }
   ],
   "source": [
    "dataFrame"
   ]
  },
  {
   "cell_type": "code",
   "execution_count": 8,
   "metadata": {},
   "outputs": [
    {
     "data": {
      "text/plain": [
       "0    0.936020\n",
       "1    0.449130\n",
       "2    0.774381\n",
       "3    0.336464\n",
       "Name: 0, dtype: float64"
      ]
     },
     "execution_count": 8,
     "metadata": {},
     "output_type": "execute_result"
    }
   ],
   "source": [
    "dataFrame[0] #kolon"
   ]
  },
  {
   "cell_type": "code",
   "execution_count": 9,
   "metadata": {},
   "outputs": [
    {
     "data": {
      "text/plain": [
       "pandas.core.series.Series"
      ]
     },
     "execution_count": 9,
     "metadata": {},
     "output_type": "execute_result"
    }
   ],
   "source": [
    "type(dataFrame[0])"
   ]
  },
  {
   "cell_type": "code",
   "execution_count": 11,
   "metadata": {},
   "outputs": [],
   "source": [
    "yeniDataFrame = pd.DataFrame(data,index=[\"Satır1\",\"Satır2\",\"Satır3\",\"Satır4\"],columns=[\"Kolon1\",\"Kolon2\",\"Kolon3\"])"
   ]
  },
  {
   "cell_type": "code",
   "execution_count": 12,
   "metadata": {},
   "outputs": [
    {
     "data": {
      "text/html": [
       "<div>\n",
       "<style scoped>\n",
       "    .dataframe tbody tr th:only-of-type {\n",
       "        vertical-align: middle;\n",
       "    }\n",
       "\n",
       "    .dataframe tbody tr th {\n",
       "        vertical-align: top;\n",
       "    }\n",
       "\n",
       "    .dataframe thead th {\n",
       "        text-align: right;\n",
       "    }\n",
       "</style>\n",
       "<table border=\"1\" class=\"dataframe\">\n",
       "  <thead>\n",
       "    <tr style=\"text-align: right;\">\n",
       "      <th></th>\n",
       "      <th>Kolon1</th>\n",
       "      <th>Kolon2</th>\n",
       "      <th>Kolon3</th>\n",
       "    </tr>\n",
       "  </thead>\n",
       "  <tbody>\n",
       "    <tr>\n",
       "      <th>Satır1</th>\n",
       "      <td>0.936020</td>\n",
       "      <td>0.181862</td>\n",
       "      <td>0.440229</td>\n",
       "    </tr>\n",
       "    <tr>\n",
       "      <th>Satır2</th>\n",
       "      <td>0.449130</td>\n",
       "      <td>0.674947</td>\n",
       "      <td>0.069185</td>\n",
       "    </tr>\n",
       "    <tr>\n",
       "      <th>Satır3</th>\n",
       "      <td>0.774381</td>\n",
       "      <td>0.166051</td>\n",
       "      <td>0.203464</td>\n",
       "    </tr>\n",
       "    <tr>\n",
       "      <th>Satır4</th>\n",
       "      <td>0.336464</td>\n",
       "      <td>0.117036</td>\n",
       "      <td>0.744916</td>\n",
       "    </tr>\n",
       "  </tbody>\n",
       "</table>\n",
       "</div>"
      ],
      "text/plain": [
       "          Kolon1    Kolon2    Kolon3\n",
       "Satır1  0.936020  0.181862  0.440229\n",
       "Satır2  0.449130  0.674947  0.069185\n",
       "Satır3  0.774381  0.166051  0.203464\n",
       "Satır4  0.336464  0.117036  0.744916"
      ]
     },
     "execution_count": 12,
     "metadata": {},
     "output_type": "execute_result"
    }
   ],
   "source": [
    "yeniDataFrame"
   ]
  },
  {
   "cell_type": "code",
   "execution_count": 13,
   "metadata": {},
   "outputs": [
    {
     "data": {
      "text/plain": [
       "Satır1    0.936020\n",
       "Satır2    0.449130\n",
       "Satır3    0.774381\n",
       "Satır4    0.336464\n",
       "Name: Kolon1, dtype: float64"
      ]
     },
     "execution_count": 13,
     "metadata": {},
     "output_type": "execute_result"
    }
   ],
   "source": [
    "yeniDataFrame[\"Kolon1\"]"
   ]
  },
  {
   "cell_type": "code",
   "execution_count": 16,
   "metadata": {},
   "outputs": [
    {
     "data": {
      "text/html": [
       "<div>\n",
       "<style scoped>\n",
       "    .dataframe tbody tr th:only-of-type {\n",
       "        vertical-align: middle;\n",
       "    }\n",
       "\n",
       "    .dataframe tbody tr th {\n",
       "        vertical-align: top;\n",
       "    }\n",
       "\n",
       "    .dataframe thead th {\n",
       "        text-align: right;\n",
       "    }\n",
       "</style>\n",
       "<table border=\"1\" class=\"dataframe\">\n",
       "  <thead>\n",
       "    <tr style=\"text-align: right;\">\n",
       "      <th></th>\n",
       "      <th>Kolon2</th>\n",
       "      <th>Kolon3</th>\n",
       "    </tr>\n",
       "  </thead>\n",
       "  <tbody>\n",
       "    <tr>\n",
       "      <th>Satır1</th>\n",
       "      <td>0.181862</td>\n",
       "      <td>0.440229</td>\n",
       "    </tr>\n",
       "    <tr>\n",
       "      <th>Satır2</th>\n",
       "      <td>0.674947</td>\n",
       "      <td>0.069185</td>\n",
       "    </tr>\n",
       "    <tr>\n",
       "      <th>Satır3</th>\n",
       "      <td>0.166051</td>\n",
       "      <td>0.203464</td>\n",
       "    </tr>\n",
       "    <tr>\n",
       "      <th>Satır4</th>\n",
       "      <td>0.117036</td>\n",
       "      <td>0.744916</td>\n",
       "    </tr>\n",
       "  </tbody>\n",
       "</table>\n",
       "</div>"
      ],
      "text/plain": [
       "          Kolon2    Kolon3\n",
       "Satır1  0.181862  0.440229\n",
       "Satır2  0.674947  0.069185\n",
       "Satır3  0.166051  0.203464\n",
       "Satır4  0.117036  0.744916"
      ]
     },
     "execution_count": 16,
     "metadata": {},
     "output_type": "execute_result"
    }
   ],
   "source": [
    "yeniDataFrame[[\"Kolon2\",\"Kolon3\"]]"
   ]
  },
  {
   "cell_type": "code",
   "execution_count": 17,
   "metadata": {},
   "outputs": [
    {
     "data": {
      "text/html": [
       "<div>\n",
       "<style scoped>\n",
       "    .dataframe tbody tr th:only-of-type {\n",
       "        vertical-align: middle;\n",
       "    }\n",
       "\n",
       "    .dataframe tbody tr th {\n",
       "        vertical-align: top;\n",
       "    }\n",
       "\n",
       "    .dataframe thead th {\n",
       "        text-align: right;\n",
       "    }\n",
       "</style>\n",
       "<table border=\"1\" class=\"dataframe\">\n",
       "  <thead>\n",
       "    <tr style=\"text-align: right;\">\n",
       "      <th></th>\n",
       "      <th>Kolon1</th>\n",
       "      <th>Kolon2</th>\n",
       "      <th>Kolon3</th>\n",
       "    </tr>\n",
       "  </thead>\n",
       "  <tbody>\n",
       "    <tr>\n",
       "      <th>Satır1</th>\n",
       "      <td>0.936020</td>\n",
       "      <td>0.181862</td>\n",
       "      <td>0.440229</td>\n",
       "    </tr>\n",
       "    <tr>\n",
       "      <th>Satır2</th>\n",
       "      <td>0.449130</td>\n",
       "      <td>0.674947</td>\n",
       "      <td>0.069185</td>\n",
       "    </tr>\n",
       "    <tr>\n",
       "      <th>Satır3</th>\n",
       "      <td>0.774381</td>\n",
       "      <td>0.166051</td>\n",
       "      <td>0.203464</td>\n",
       "    </tr>\n",
       "    <tr>\n",
       "      <th>Satır4</th>\n",
       "      <td>0.336464</td>\n",
       "      <td>0.117036</td>\n",
       "      <td>0.744916</td>\n",
       "    </tr>\n",
       "  </tbody>\n",
       "</table>\n",
       "</div>"
      ],
      "text/plain": [
       "          Kolon1    Kolon2    Kolon3\n",
       "Satır1  0.936020  0.181862  0.440229\n",
       "Satır2  0.449130  0.674947  0.069185\n",
       "Satır3  0.774381  0.166051  0.203464\n",
       "Satır4  0.336464  0.117036  0.744916"
      ]
     },
     "execution_count": 17,
     "metadata": {},
     "output_type": "execute_result"
    }
   ],
   "source": [
    "yeniDataFrame"
   ]
  },
  {
   "cell_type": "code",
   "execution_count": 18,
   "metadata": {},
   "outputs": [],
   "source": [
    "#yeniDataFrame[\"Satır1\"] #bu yol ile satır alınmaz"
   ]
  },
  {
   "cell_type": "code",
   "execution_count": 19,
   "metadata": {},
   "outputs": [
    {
     "data": {
      "text/plain": [
       "Kolon1    0.936020\n",
       "Kolon2    0.181862\n",
       "Kolon3    0.440229\n",
       "Name: Satır1, dtype: float64"
      ]
     },
     "execution_count": 19,
     "metadata": {},
     "output_type": "execute_result"
    }
   ],
   "source": [
    "yeniDataFrame.loc[\"Satır1\"] #location"
   ]
  },
  {
   "cell_type": "code",
   "execution_count": 20,
   "metadata": {},
   "outputs": [
    {
     "data": {
      "text/plain": [
       "Kolon1    0.336464\n",
       "Kolon2    0.117036\n",
       "Kolon3    0.744916\n",
       "Name: Satır4, dtype: float64"
      ]
     },
     "execution_count": 20,
     "metadata": {},
     "output_type": "execute_result"
    }
   ],
   "source": [
    "yeniDataFrame.loc[\"Satır4\"]"
   ]
  },
  {
   "cell_type": "code",
   "execution_count": 21,
   "metadata": {},
   "outputs": [
    {
     "data": {
      "text/plain": [
       "Kolon1    0.449130\n",
       "Kolon2    0.674947\n",
       "Kolon3    0.069185\n",
       "Name: Satır2, dtype: float64"
      ]
     },
     "execution_count": 21,
     "metadata": {},
     "output_type": "execute_result"
    }
   ],
   "source": [
    "yeniDataFrame.iloc[1] #index location"
   ]
  },
  {
   "cell_type": "code",
   "execution_count": 22,
   "metadata": {},
   "outputs": [
    {
     "data": {
      "text/plain": [
       "Kolon1    0.449130\n",
       "Kolon2    0.674947\n",
       "Kolon3    0.069185\n",
       "Name: Satır2, dtype: float64"
      ]
     },
     "execution_count": 22,
     "metadata": {},
     "output_type": "execute_result"
    }
   ],
   "source": [
    "yeniDataFrame.loc[\"Satır2\"]"
   ]
  },
  {
   "cell_type": "code",
   "execution_count": 23,
   "metadata": {},
   "outputs": [
    {
     "data": {
      "text/html": [
       "<div>\n",
       "<style scoped>\n",
       "    .dataframe tbody tr th:only-of-type {\n",
       "        vertical-align: middle;\n",
       "    }\n",
       "\n",
       "    .dataframe tbody tr th {\n",
       "        vertical-align: top;\n",
       "    }\n",
       "\n",
       "    .dataframe thead th {\n",
       "        text-align: right;\n",
       "    }\n",
       "</style>\n",
       "<table border=\"1\" class=\"dataframe\">\n",
       "  <thead>\n",
       "    <tr style=\"text-align: right;\">\n",
       "      <th></th>\n",
       "      <th>Kolon1</th>\n",
       "      <th>Kolon2</th>\n",
       "      <th>Kolon3</th>\n",
       "    </tr>\n",
       "  </thead>\n",
       "  <tbody>\n",
       "    <tr>\n",
       "      <th>Satır1</th>\n",
       "      <td>0.936020</td>\n",
       "      <td>0.181862</td>\n",
       "      <td>0.440229</td>\n",
       "    </tr>\n",
       "    <tr>\n",
       "      <th>Satır2</th>\n",
       "      <td>0.449130</td>\n",
       "      <td>0.674947</td>\n",
       "      <td>0.069185</td>\n",
       "    </tr>\n",
       "    <tr>\n",
       "      <th>Satır3</th>\n",
       "      <td>0.774381</td>\n",
       "      <td>0.166051</td>\n",
       "      <td>0.203464</td>\n",
       "    </tr>\n",
       "    <tr>\n",
       "      <th>Satır4</th>\n",
       "      <td>0.336464</td>\n",
       "      <td>0.117036</td>\n",
       "      <td>0.744916</td>\n",
       "    </tr>\n",
       "  </tbody>\n",
       "</table>\n",
       "</div>"
      ],
      "text/plain": [
       "          Kolon1    Kolon2    Kolon3\n",
       "Satır1  0.936020  0.181862  0.440229\n",
       "Satır2  0.449130  0.674947  0.069185\n",
       "Satır3  0.774381  0.166051  0.203464\n",
       "Satır4  0.336464  0.117036  0.744916"
      ]
     },
     "execution_count": 23,
     "metadata": {},
     "output_type": "execute_result"
    }
   ],
   "source": [
    "yeniDataFrame"
   ]
  },
  {
   "cell_type": "code",
   "execution_count": 24,
   "metadata": {},
   "outputs": [],
   "source": [
    "yeniDataFrame[\"Emeklilik Yasi\"] = yeniDataFrame[\"Kolon1\"] + yeniDataFrame[\"Kolon1\"] #kolon ekleme"
   ]
  },
  {
   "cell_type": "code",
   "execution_count": 25,
   "metadata": {},
   "outputs": [
    {
     "data": {
      "text/html": [
       "<div>\n",
       "<style scoped>\n",
       "    .dataframe tbody tr th:only-of-type {\n",
       "        vertical-align: middle;\n",
       "    }\n",
       "\n",
       "    .dataframe tbody tr th {\n",
       "        vertical-align: top;\n",
       "    }\n",
       "\n",
       "    .dataframe thead th {\n",
       "        text-align: right;\n",
       "    }\n",
       "</style>\n",
       "<table border=\"1\" class=\"dataframe\">\n",
       "  <thead>\n",
       "    <tr style=\"text-align: right;\">\n",
       "      <th></th>\n",
       "      <th>Kolon1</th>\n",
       "      <th>Kolon2</th>\n",
       "      <th>Kolon3</th>\n",
       "      <th>Emeklilik Yasi</th>\n",
       "    </tr>\n",
       "  </thead>\n",
       "  <tbody>\n",
       "    <tr>\n",
       "      <th>Satır1</th>\n",
       "      <td>0.936020</td>\n",
       "      <td>0.181862</td>\n",
       "      <td>0.440229</td>\n",
       "      <td>1.872041</td>\n",
       "    </tr>\n",
       "    <tr>\n",
       "      <th>Satır2</th>\n",
       "      <td>0.449130</td>\n",
       "      <td>0.674947</td>\n",
       "      <td>0.069185</td>\n",
       "      <td>0.898259</td>\n",
       "    </tr>\n",
       "    <tr>\n",
       "      <th>Satır3</th>\n",
       "      <td>0.774381</td>\n",
       "      <td>0.166051</td>\n",
       "      <td>0.203464</td>\n",
       "      <td>1.548762</td>\n",
       "    </tr>\n",
       "    <tr>\n",
       "      <th>Satır4</th>\n",
       "      <td>0.336464</td>\n",
       "      <td>0.117036</td>\n",
       "      <td>0.744916</td>\n",
       "      <td>0.672928</td>\n",
       "    </tr>\n",
       "  </tbody>\n",
       "</table>\n",
       "</div>"
      ],
      "text/plain": [
       "          Kolon1    Kolon2    Kolon3  Emeklilik Yasi\n",
       "Satır1  0.936020  0.181862  0.440229        1.872041\n",
       "Satır2  0.449130  0.674947  0.069185        0.898259\n",
       "Satır3  0.774381  0.166051  0.203464        1.548762\n",
       "Satır4  0.336464  0.117036  0.744916        0.672928"
      ]
     },
     "execution_count": 25,
     "metadata": {},
     "output_type": "execute_result"
    }
   ],
   "source": [
    "yeniDataFrame"
   ]
  },
  {
   "cell_type": "code",
   "execution_count": 26,
   "metadata": {},
   "outputs": [],
   "source": [
    "#silme"
   ]
  },
  {
   "cell_type": "code",
   "execution_count": 28,
   "metadata": {},
   "outputs": [],
   "source": [
    "#yeniDataFrame.drop(\"Emeklilik Yasi\") #hata"
   ]
  },
  {
   "cell_type": "code",
   "execution_count": 29,
   "metadata": {},
   "outputs": [
    {
     "data": {
      "text/html": [
       "<div>\n",
       "<style scoped>\n",
       "    .dataframe tbody tr th:only-of-type {\n",
       "        vertical-align: middle;\n",
       "    }\n",
       "\n",
       "    .dataframe tbody tr th {\n",
       "        vertical-align: top;\n",
       "    }\n",
       "\n",
       "    .dataframe thead th {\n",
       "        text-align: right;\n",
       "    }\n",
       "</style>\n",
       "<table border=\"1\" class=\"dataframe\">\n",
       "  <thead>\n",
       "    <tr style=\"text-align: right;\">\n",
       "      <th></th>\n",
       "      <th>Kolon1</th>\n",
       "      <th>Kolon2</th>\n",
       "      <th>Kolon3</th>\n",
       "    </tr>\n",
       "  </thead>\n",
       "  <tbody>\n",
       "    <tr>\n",
       "      <th>Satır1</th>\n",
       "      <td>0.936020</td>\n",
       "      <td>0.181862</td>\n",
       "      <td>0.440229</td>\n",
       "    </tr>\n",
       "    <tr>\n",
       "      <th>Satır2</th>\n",
       "      <td>0.449130</td>\n",
       "      <td>0.674947</td>\n",
       "      <td>0.069185</td>\n",
       "    </tr>\n",
       "    <tr>\n",
       "      <th>Satır3</th>\n",
       "      <td>0.774381</td>\n",
       "      <td>0.166051</td>\n",
       "      <td>0.203464</td>\n",
       "    </tr>\n",
       "    <tr>\n",
       "      <th>Satır4</th>\n",
       "      <td>0.336464</td>\n",
       "      <td>0.117036</td>\n",
       "      <td>0.744916</td>\n",
       "    </tr>\n",
       "  </tbody>\n",
       "</table>\n",
       "</div>"
      ],
      "text/plain": [
       "          Kolon1    Kolon2    Kolon3\n",
       "Satır1  0.936020  0.181862  0.440229\n",
       "Satır2  0.449130  0.674947  0.069185\n",
       "Satır3  0.774381  0.166051  0.203464\n",
       "Satır4  0.336464  0.117036  0.744916"
      ]
     },
     "execution_count": 29,
     "metadata": {},
     "output_type": "execute_result"
    }
   ],
   "source": [
    "yeniDataFrame.drop(\"Emeklilik Yasi\",axis=1)"
   ]
  },
  {
   "cell_type": "code",
   "execution_count": 30,
   "metadata": {},
   "outputs": [
    {
     "data": {
      "text/html": [
       "<div>\n",
       "<style scoped>\n",
       "    .dataframe tbody tr th:only-of-type {\n",
       "        vertical-align: middle;\n",
       "    }\n",
       "\n",
       "    .dataframe tbody tr th {\n",
       "        vertical-align: top;\n",
       "    }\n",
       "\n",
       "    .dataframe thead th {\n",
       "        text-align: right;\n",
       "    }\n",
       "</style>\n",
       "<table border=\"1\" class=\"dataframe\">\n",
       "  <thead>\n",
       "    <tr style=\"text-align: right;\">\n",
       "      <th></th>\n",
       "      <th>Kolon1</th>\n",
       "      <th>Kolon2</th>\n",
       "      <th>Kolon3</th>\n",
       "      <th>Emeklilik Yasi</th>\n",
       "    </tr>\n",
       "  </thead>\n",
       "  <tbody>\n",
       "    <tr>\n",
       "      <th>Satır1</th>\n",
       "      <td>0.936020</td>\n",
       "      <td>0.181862</td>\n",
       "      <td>0.440229</td>\n",
       "      <td>1.872041</td>\n",
       "    </tr>\n",
       "    <tr>\n",
       "      <th>Satır2</th>\n",
       "      <td>0.449130</td>\n",
       "      <td>0.674947</td>\n",
       "      <td>0.069185</td>\n",
       "      <td>0.898259</td>\n",
       "    </tr>\n",
       "    <tr>\n",
       "      <th>Satır3</th>\n",
       "      <td>0.774381</td>\n",
       "      <td>0.166051</td>\n",
       "      <td>0.203464</td>\n",
       "      <td>1.548762</td>\n",
       "    </tr>\n",
       "  </tbody>\n",
       "</table>\n",
       "</div>"
      ],
      "text/plain": [
       "          Kolon1    Kolon2    Kolon3  Emeklilik Yasi\n",
       "Satır1  0.936020  0.181862  0.440229        1.872041\n",
       "Satır2  0.449130  0.674947  0.069185        0.898259\n",
       "Satır3  0.774381  0.166051  0.203464        1.548762"
      ]
     },
     "execution_count": 30,
     "metadata": {},
     "output_type": "execute_result"
    }
   ],
   "source": [
    "yeniDataFrame.drop(\"Satır4\") #axis = 0"
   ]
  },
  {
   "cell_type": "code",
   "execution_count": 31,
   "metadata": {},
   "outputs": [
    {
     "data": {
      "text/html": [
       "<div>\n",
       "<style scoped>\n",
       "    .dataframe tbody tr th:only-of-type {\n",
       "        vertical-align: middle;\n",
       "    }\n",
       "\n",
       "    .dataframe tbody tr th {\n",
       "        vertical-align: top;\n",
       "    }\n",
       "\n",
       "    .dataframe thead th {\n",
       "        text-align: right;\n",
       "    }\n",
       "</style>\n",
       "<table border=\"1\" class=\"dataframe\">\n",
       "  <thead>\n",
       "    <tr style=\"text-align: right;\">\n",
       "      <th></th>\n",
       "      <th>Kolon1</th>\n",
       "      <th>Kolon2</th>\n",
       "      <th>Kolon3</th>\n",
       "      <th>Emeklilik Yasi</th>\n",
       "    </tr>\n",
       "  </thead>\n",
       "  <tbody>\n",
       "    <tr>\n",
       "      <th>Satır1</th>\n",
       "      <td>0.936020</td>\n",
       "      <td>0.181862</td>\n",
       "      <td>0.440229</td>\n",
       "      <td>1.872041</td>\n",
       "    </tr>\n",
       "    <tr>\n",
       "      <th>Satır2</th>\n",
       "      <td>0.449130</td>\n",
       "      <td>0.674947</td>\n",
       "      <td>0.069185</td>\n",
       "      <td>0.898259</td>\n",
       "    </tr>\n",
       "    <tr>\n",
       "      <th>Satır3</th>\n",
       "      <td>0.774381</td>\n",
       "      <td>0.166051</td>\n",
       "      <td>0.203464</td>\n",
       "      <td>1.548762</td>\n",
       "    </tr>\n",
       "    <tr>\n",
       "      <th>Satır4</th>\n",
       "      <td>0.336464</td>\n",
       "      <td>0.117036</td>\n",
       "      <td>0.744916</td>\n",
       "      <td>0.672928</td>\n",
       "    </tr>\n",
       "  </tbody>\n",
       "</table>\n",
       "</div>"
      ],
      "text/plain": [
       "          Kolon1    Kolon2    Kolon3  Emeklilik Yasi\n",
       "Satır1  0.936020  0.181862  0.440229        1.872041\n",
       "Satır2  0.449130  0.674947  0.069185        0.898259\n",
       "Satır3  0.774381  0.166051  0.203464        1.548762\n",
       "Satır4  0.336464  0.117036  0.744916        0.672928"
      ]
     },
     "execution_count": 31,
     "metadata": {},
     "output_type": "execute_result"
    }
   ],
   "source": [
    "yeniDataFrame"
   ]
  },
  {
   "cell_type": "code",
   "execution_count": 32,
   "metadata": {},
   "outputs": [],
   "source": [
    "#silmel için ayrıca belirt\n",
    "yeniDataFrame.drop(\"Emeklilik Yasi\",axis=1,inplace=True)"
   ]
  },
  {
   "cell_type": "code",
   "execution_count": 33,
   "metadata": {},
   "outputs": [
    {
     "data": {
      "text/html": [
       "<div>\n",
       "<style scoped>\n",
       "    .dataframe tbody tr th:only-of-type {\n",
       "        vertical-align: middle;\n",
       "    }\n",
       "\n",
       "    .dataframe tbody tr th {\n",
       "        vertical-align: top;\n",
       "    }\n",
       "\n",
       "    .dataframe thead th {\n",
       "        text-align: right;\n",
       "    }\n",
       "</style>\n",
       "<table border=\"1\" class=\"dataframe\">\n",
       "  <thead>\n",
       "    <tr style=\"text-align: right;\">\n",
       "      <th></th>\n",
       "      <th>Kolon1</th>\n",
       "      <th>Kolon2</th>\n",
       "      <th>Kolon3</th>\n",
       "    </tr>\n",
       "  </thead>\n",
       "  <tbody>\n",
       "    <tr>\n",
       "      <th>Satır1</th>\n",
       "      <td>0.936020</td>\n",
       "      <td>0.181862</td>\n",
       "      <td>0.440229</td>\n",
       "    </tr>\n",
       "    <tr>\n",
       "      <th>Satır2</th>\n",
       "      <td>0.449130</td>\n",
       "      <td>0.674947</td>\n",
       "      <td>0.069185</td>\n",
       "    </tr>\n",
       "    <tr>\n",
       "      <th>Satır3</th>\n",
       "      <td>0.774381</td>\n",
       "      <td>0.166051</td>\n",
       "      <td>0.203464</td>\n",
       "    </tr>\n",
       "    <tr>\n",
       "      <th>Satır4</th>\n",
       "      <td>0.336464</td>\n",
       "      <td>0.117036</td>\n",
       "      <td>0.744916</td>\n",
       "    </tr>\n",
       "  </tbody>\n",
       "</table>\n",
       "</div>"
      ],
      "text/plain": [
       "          Kolon1    Kolon2    Kolon3\n",
       "Satır1  0.936020  0.181862  0.440229\n",
       "Satır2  0.449130  0.674947  0.069185\n",
       "Satır3  0.774381  0.166051  0.203464\n",
       "Satır4  0.336464  0.117036  0.744916"
      ]
     },
     "execution_count": 33,
     "metadata": {},
     "output_type": "execute_result"
    }
   ],
   "source": [
    "yeniDataFrame"
   ]
  },
  {
   "cell_type": "code",
   "execution_count": 34,
   "metadata": {},
   "outputs": [],
   "source": [
    "yeniDataFrame.drop(\"Satır4\",inplace=True)"
   ]
  },
  {
   "cell_type": "code",
   "execution_count": 35,
   "metadata": {},
   "outputs": [
    {
     "data": {
      "text/html": [
       "<div>\n",
       "<style scoped>\n",
       "    .dataframe tbody tr th:only-of-type {\n",
       "        vertical-align: middle;\n",
       "    }\n",
       "\n",
       "    .dataframe tbody tr th {\n",
       "        vertical-align: top;\n",
       "    }\n",
       "\n",
       "    .dataframe thead th {\n",
       "        text-align: right;\n",
       "    }\n",
       "</style>\n",
       "<table border=\"1\" class=\"dataframe\">\n",
       "  <thead>\n",
       "    <tr style=\"text-align: right;\">\n",
       "      <th></th>\n",
       "      <th>Kolon1</th>\n",
       "      <th>Kolon2</th>\n",
       "      <th>Kolon3</th>\n",
       "    </tr>\n",
       "  </thead>\n",
       "  <tbody>\n",
       "    <tr>\n",
       "      <th>Satır1</th>\n",
       "      <td>0.936020</td>\n",
       "      <td>0.181862</td>\n",
       "      <td>0.440229</td>\n",
       "    </tr>\n",
       "    <tr>\n",
       "      <th>Satır2</th>\n",
       "      <td>0.449130</td>\n",
       "      <td>0.674947</td>\n",
       "      <td>0.069185</td>\n",
       "    </tr>\n",
       "    <tr>\n",
       "      <th>Satır3</th>\n",
       "      <td>0.774381</td>\n",
       "      <td>0.166051</td>\n",
       "      <td>0.203464</td>\n",
       "    </tr>\n",
       "  </tbody>\n",
       "</table>\n",
       "</div>"
      ],
      "text/plain": [
       "          Kolon1    Kolon2    Kolon3\n",
       "Satır1  0.936020  0.181862  0.440229\n",
       "Satır2  0.449130  0.674947  0.069185\n",
       "Satır3  0.774381  0.166051  0.203464"
      ]
     },
     "execution_count": 35,
     "metadata": {},
     "output_type": "execute_result"
    }
   ],
   "source": [
    "yeniDataFrame"
   ]
  },
  {
   "cell_type": "code",
   "execution_count": 37,
   "metadata": {},
   "outputs": [],
   "source": [
    "#işlemler"
   ]
  },
  {
   "cell_type": "code",
   "execution_count": 38,
   "metadata": {},
   "outputs": [
    {
     "data": {
      "text/plain": [
       "0.9360202505503222"
      ]
     },
     "execution_count": 38,
     "metadata": {},
     "output_type": "execute_result"
    }
   ],
   "source": [
    "yeniDataFrame.loc[\"Satır1\"][\"Kolon1\"]"
   ]
  },
  {
   "cell_type": "code",
   "execution_count": 39,
   "metadata": {},
   "outputs": [
    {
     "data": {
      "text/html": [
       "<div>\n",
       "<style scoped>\n",
       "    .dataframe tbody tr th:only-of-type {\n",
       "        vertical-align: middle;\n",
       "    }\n",
       "\n",
       "    .dataframe tbody tr th {\n",
       "        vertical-align: top;\n",
       "    }\n",
       "\n",
       "    .dataframe thead th {\n",
       "        text-align: right;\n",
       "    }\n",
       "</style>\n",
       "<table border=\"1\" class=\"dataframe\">\n",
       "  <thead>\n",
       "    <tr style=\"text-align: right;\">\n",
       "      <th></th>\n",
       "      <th>Kolon1</th>\n",
       "      <th>Kolon2</th>\n",
       "      <th>Kolon3</th>\n",
       "    </tr>\n",
       "  </thead>\n",
       "  <tbody>\n",
       "    <tr>\n",
       "      <th>Satır1</th>\n",
       "      <td>0.936020</td>\n",
       "      <td>0.181862</td>\n",
       "      <td>0.440229</td>\n",
       "    </tr>\n",
       "    <tr>\n",
       "      <th>Satır2</th>\n",
       "      <td>0.449130</td>\n",
       "      <td>0.674947</td>\n",
       "      <td>0.069185</td>\n",
       "    </tr>\n",
       "    <tr>\n",
       "      <th>Satır3</th>\n",
       "      <td>0.774381</td>\n",
       "      <td>0.166051</td>\n",
       "      <td>0.203464</td>\n",
       "    </tr>\n",
       "  </tbody>\n",
       "</table>\n",
       "</div>"
      ],
      "text/plain": [
       "          Kolon1    Kolon2    Kolon3\n",
       "Satır1  0.936020  0.181862  0.440229\n",
       "Satır2  0.449130  0.674947  0.069185\n",
       "Satır3  0.774381  0.166051  0.203464"
      ]
     },
     "execution_count": 39,
     "metadata": {},
     "output_type": "execute_result"
    }
   ],
   "source": [
    "yeniDataFrame"
   ]
  },
  {
   "cell_type": "code",
   "execution_count": 40,
   "metadata": {},
   "outputs": [
    {
     "data": {
      "text/html": [
       "<div>\n",
       "<style scoped>\n",
       "    .dataframe tbody tr th:only-of-type {\n",
       "        vertical-align: middle;\n",
       "    }\n",
       "\n",
       "    .dataframe tbody tr th {\n",
       "        vertical-align: top;\n",
       "    }\n",
       "\n",
       "    .dataframe thead th {\n",
       "        text-align: right;\n",
       "    }\n",
       "</style>\n",
       "<table border=\"1\" class=\"dataframe\">\n",
       "  <thead>\n",
       "    <tr style=\"text-align: right;\">\n",
       "      <th></th>\n",
       "      <th>Kolon1</th>\n",
       "      <th>Kolon2</th>\n",
       "      <th>Kolon3</th>\n",
       "    </tr>\n",
       "  </thead>\n",
       "  <tbody>\n",
       "    <tr>\n",
       "      <th>Satır1</th>\n",
       "      <td>False</td>\n",
       "      <td>False</td>\n",
       "      <td>False</td>\n",
       "    </tr>\n",
       "    <tr>\n",
       "      <th>Satır2</th>\n",
       "      <td>False</td>\n",
       "      <td>False</td>\n",
       "      <td>False</td>\n",
       "    </tr>\n",
       "    <tr>\n",
       "      <th>Satır3</th>\n",
       "      <td>False</td>\n",
       "      <td>False</td>\n",
       "      <td>False</td>\n",
       "    </tr>\n",
       "  </tbody>\n",
       "</table>\n",
       "</div>"
      ],
      "text/plain": [
       "        Kolon1  Kolon2  Kolon3\n",
       "Satır1   False   False   False\n",
       "Satır2   False   False   False\n",
       "Satır3   False   False   False"
      ]
     },
     "execution_count": 40,
     "metadata": {},
     "output_type": "execute_result"
    }
   ],
   "source": [
    "yeniDataFrame < 0"
   ]
  },
  {
   "cell_type": "code",
   "execution_count": 41,
   "metadata": {},
   "outputs": [
    {
     "data": {
      "text/html": [
       "<div>\n",
       "<style scoped>\n",
       "    .dataframe tbody tr th:only-of-type {\n",
       "        vertical-align: middle;\n",
       "    }\n",
       "\n",
       "    .dataframe tbody tr th {\n",
       "        vertical-align: top;\n",
       "    }\n",
       "\n",
       "    .dataframe thead th {\n",
       "        text-align: right;\n",
       "    }\n",
       "</style>\n",
       "<table border=\"1\" class=\"dataframe\">\n",
       "  <thead>\n",
       "    <tr style=\"text-align: right;\">\n",
       "      <th></th>\n",
       "      <th>Kolon1</th>\n",
       "      <th>Kolon2</th>\n",
       "      <th>Kolon3</th>\n",
       "    </tr>\n",
       "  </thead>\n",
       "  <tbody>\n",
       "    <tr>\n",
       "      <th>Satır1</th>\n",
       "      <td>True</td>\n",
       "      <td>True</td>\n",
       "      <td>True</td>\n",
       "    </tr>\n",
       "    <tr>\n",
       "      <th>Satır2</th>\n",
       "      <td>True</td>\n",
       "      <td>True</td>\n",
       "      <td>True</td>\n",
       "    </tr>\n",
       "    <tr>\n",
       "      <th>Satır3</th>\n",
       "      <td>True</td>\n",
       "      <td>True</td>\n",
       "      <td>True</td>\n",
       "    </tr>\n",
       "  </tbody>\n",
       "</table>\n",
       "</div>"
      ],
      "text/plain": [
       "        Kolon1  Kolon2  Kolon3\n",
       "Satır1    True    True    True\n",
       "Satır2    True    True    True\n",
       "Satır3    True    True    True"
      ]
     },
     "execution_count": 41,
     "metadata": {},
     "output_type": "execute_result"
    }
   ],
   "source": [
    "yeniDataFrame > 0"
   ]
  },
  {
   "cell_type": "code",
   "execution_count": 42,
   "metadata": {},
   "outputs": [],
   "source": [
    "boolFrame = yeniDataFrame < 0"
   ]
  },
  {
   "cell_type": "code",
   "execution_count": 43,
   "metadata": {},
   "outputs": [
    {
     "data": {
      "text/html": [
       "<div>\n",
       "<style scoped>\n",
       "    .dataframe tbody tr th:only-of-type {\n",
       "        vertical-align: middle;\n",
       "    }\n",
       "\n",
       "    .dataframe tbody tr th {\n",
       "        vertical-align: top;\n",
       "    }\n",
       "\n",
       "    .dataframe thead th {\n",
       "        text-align: right;\n",
       "    }\n",
       "</style>\n",
       "<table border=\"1\" class=\"dataframe\">\n",
       "  <thead>\n",
       "    <tr style=\"text-align: right;\">\n",
       "      <th></th>\n",
       "      <th>Kolon1</th>\n",
       "      <th>Kolon2</th>\n",
       "      <th>Kolon3</th>\n",
       "    </tr>\n",
       "  </thead>\n",
       "  <tbody>\n",
       "    <tr>\n",
       "      <th>Satır1</th>\n",
       "      <td>False</td>\n",
       "      <td>False</td>\n",
       "      <td>False</td>\n",
       "    </tr>\n",
       "    <tr>\n",
       "      <th>Satır2</th>\n",
       "      <td>False</td>\n",
       "      <td>False</td>\n",
       "      <td>False</td>\n",
       "    </tr>\n",
       "    <tr>\n",
       "      <th>Satır3</th>\n",
       "      <td>False</td>\n",
       "      <td>False</td>\n",
       "      <td>False</td>\n",
       "    </tr>\n",
       "  </tbody>\n",
       "</table>\n",
       "</div>"
      ],
      "text/plain": [
       "        Kolon1  Kolon2  Kolon3\n",
       "Satır1   False   False   False\n",
       "Satır2   False   False   False\n",
       "Satır3   False   False   False"
      ]
     },
     "execution_count": 43,
     "metadata": {},
     "output_type": "execute_result"
    }
   ],
   "source": [
    "boolFrame"
   ]
  },
  {
   "cell_type": "code",
   "execution_count": 45,
   "metadata": {},
   "outputs": [
    {
     "data": {
      "text/html": [
       "<div>\n",
       "<style scoped>\n",
       "    .dataframe tbody tr th:only-of-type {\n",
       "        vertical-align: middle;\n",
       "    }\n",
       "\n",
       "    .dataframe tbody tr th {\n",
       "        vertical-align: top;\n",
       "    }\n",
       "\n",
       "    .dataframe thead th {\n",
       "        text-align: right;\n",
       "    }\n",
       "</style>\n",
       "<table border=\"1\" class=\"dataframe\">\n",
       "  <thead>\n",
       "    <tr style=\"text-align: right;\">\n",
       "      <th></th>\n",
       "      <th>Kolon1</th>\n",
       "      <th>Kolon2</th>\n",
       "      <th>Kolon3</th>\n",
       "    </tr>\n",
       "  </thead>\n",
       "  <tbody>\n",
       "    <tr>\n",
       "      <th>Satır1</th>\n",
       "      <td>NaN</td>\n",
       "      <td>NaN</td>\n",
       "      <td>NaN</td>\n",
       "    </tr>\n",
       "    <tr>\n",
       "      <th>Satır2</th>\n",
       "      <td>NaN</td>\n",
       "      <td>NaN</td>\n",
       "      <td>NaN</td>\n",
       "    </tr>\n",
       "    <tr>\n",
       "      <th>Satır3</th>\n",
       "      <td>NaN</td>\n",
       "      <td>NaN</td>\n",
       "      <td>NaN</td>\n",
       "    </tr>\n",
       "  </tbody>\n",
       "</table>\n",
       "</div>"
      ],
      "text/plain": [
       "        Kolon1  Kolon2  Kolon3\n",
       "Satır1     NaN     NaN     NaN\n",
       "Satır2     NaN     NaN     NaN\n",
       "Satır3     NaN     NaN     NaN"
      ]
     },
     "execution_count": 45,
     "metadata": {},
     "output_type": "execute_result"
    }
   ],
   "source": [
    "yeniDataFrame[boolFrame] #sadece 0 dan kucukler gozokur"
   ]
  },
  {
   "cell_type": "code",
   "execution_count": 46,
   "metadata": {},
   "outputs": [
    {
     "data": {
      "text/html": [
       "<div>\n",
       "<style scoped>\n",
       "    .dataframe tbody tr th:only-of-type {\n",
       "        vertical-align: middle;\n",
       "    }\n",
       "\n",
       "    .dataframe tbody tr th {\n",
       "        vertical-align: top;\n",
       "    }\n",
       "\n",
       "    .dataframe thead th {\n",
       "        text-align: right;\n",
       "    }\n",
       "</style>\n",
       "<table border=\"1\" class=\"dataframe\">\n",
       "  <thead>\n",
       "    <tr style=\"text-align: right;\">\n",
       "      <th></th>\n",
       "      <th>Kolon1</th>\n",
       "      <th>Kolon2</th>\n",
       "      <th>Kolon3</th>\n",
       "    </tr>\n",
       "  </thead>\n",
       "  <tbody>\n",
       "    <tr>\n",
       "      <th>Satır1</th>\n",
       "      <td>NaN</td>\n",
       "      <td>NaN</td>\n",
       "      <td>NaN</td>\n",
       "    </tr>\n",
       "    <tr>\n",
       "      <th>Satır2</th>\n",
       "      <td>NaN</td>\n",
       "      <td>NaN</td>\n",
       "      <td>NaN</td>\n",
       "    </tr>\n",
       "    <tr>\n",
       "      <th>Satır3</th>\n",
       "      <td>NaN</td>\n",
       "      <td>NaN</td>\n",
       "      <td>NaN</td>\n",
       "    </tr>\n",
       "  </tbody>\n",
       "</table>\n",
       "</div>"
      ],
      "text/plain": [
       "        Kolon1  Kolon2  Kolon3\n",
       "Satır1     NaN     NaN     NaN\n",
       "Satır2     NaN     NaN     NaN\n",
       "Satır3     NaN     NaN     NaN"
      ]
     },
     "execution_count": 46,
     "metadata": {},
     "output_type": "execute_result"
    }
   ],
   "source": [
    "yeniDataFrame[yeniDataFrame < 0]"
   ]
  },
  {
   "cell_type": "code",
   "execution_count": 47,
   "metadata": {},
   "outputs": [
    {
     "data": {
      "text/plain": [
       "Satır1    0.936020\n",
       "Satır2    0.449130\n",
       "Satır3    0.774381\n",
       "Name: Kolon1, dtype: float64"
      ]
     },
     "execution_count": 47,
     "metadata": {},
     "output_type": "execute_result"
    }
   ],
   "source": [
    "#kolonlar arası\n",
    "yeniDataFrame[\"Kolon1\"]"
   ]
  },
  {
   "cell_type": "code",
   "execution_count": 50,
   "metadata": {},
   "outputs": [
    {
     "data": {
      "text/html": [
       "<div>\n",
       "<style scoped>\n",
       "    .dataframe tbody tr th:only-of-type {\n",
       "        vertical-align: middle;\n",
       "    }\n",
       "\n",
       "    .dataframe tbody tr th {\n",
       "        vertical-align: top;\n",
       "    }\n",
       "\n",
       "    .dataframe thead th {\n",
       "        text-align: right;\n",
       "    }\n",
       "</style>\n",
       "<table border=\"1\" class=\"dataframe\">\n",
       "  <thead>\n",
       "    <tr style=\"text-align: right;\">\n",
       "      <th></th>\n",
       "      <th>Kolon1</th>\n",
       "      <th>Kolon2</th>\n",
       "      <th>Kolon3</th>\n",
       "    </tr>\n",
       "  </thead>\n",
       "  <tbody>\n",
       "    <tr>\n",
       "      <th>Satır1</th>\n",
       "      <td>0.936020</td>\n",
       "      <td>0.181862</td>\n",
       "      <td>0.440229</td>\n",
       "    </tr>\n",
       "    <tr>\n",
       "      <th>Satır3</th>\n",
       "      <td>0.774381</td>\n",
       "      <td>0.166051</td>\n",
       "      <td>0.203464</td>\n",
       "    </tr>\n",
       "  </tbody>\n",
       "</table>\n",
       "</div>"
      ],
      "text/plain": [
       "          Kolon1    Kolon2    Kolon3\n",
       "Satır1  0.936020  0.181862  0.440229\n",
       "Satır3  0.774381  0.166051  0.203464"
      ]
     },
     "execution_count": 50,
     "metadata": {},
     "output_type": "execute_result"
    }
   ],
   "source": [
    "yeniDataFrame[yeniDataFrame[\"Kolon1\"]>0.5]"
   ]
  },
  {
   "cell_type": "code",
   "execution_count": 51,
   "metadata": {},
   "outputs": [],
   "source": [
    "#Indeks Değiştirme"
   ]
  },
  {
   "cell_type": "code",
   "execution_count": 52,
   "metadata": {},
   "outputs": [
    {
     "data": {
      "text/html": [
       "<div>\n",
       "<style scoped>\n",
       "    .dataframe tbody tr th:only-of-type {\n",
       "        vertical-align: middle;\n",
       "    }\n",
       "\n",
       "    .dataframe tbody tr th {\n",
       "        vertical-align: top;\n",
       "    }\n",
       "\n",
       "    .dataframe thead th {\n",
       "        text-align: right;\n",
       "    }\n",
       "</style>\n",
       "<table border=\"1\" class=\"dataframe\">\n",
       "  <thead>\n",
       "    <tr style=\"text-align: right;\">\n",
       "      <th></th>\n",
       "      <th>Kolon1</th>\n",
       "      <th>Kolon2</th>\n",
       "      <th>Kolon3</th>\n",
       "    </tr>\n",
       "  </thead>\n",
       "  <tbody>\n",
       "    <tr>\n",
       "      <th>Satır1</th>\n",
       "      <td>0.936020</td>\n",
       "      <td>0.181862</td>\n",
       "      <td>0.440229</td>\n",
       "    </tr>\n",
       "    <tr>\n",
       "      <th>Satır2</th>\n",
       "      <td>0.449130</td>\n",
       "      <td>0.674947</td>\n",
       "      <td>0.069185</td>\n",
       "    </tr>\n",
       "    <tr>\n",
       "      <th>Satır3</th>\n",
       "      <td>0.774381</td>\n",
       "      <td>0.166051</td>\n",
       "      <td>0.203464</td>\n",
       "    </tr>\n",
       "  </tbody>\n",
       "</table>\n",
       "</div>"
      ],
      "text/plain": [
       "          Kolon1    Kolon2    Kolon3\n",
       "Satır1  0.936020  0.181862  0.440229\n",
       "Satır2  0.449130  0.674947  0.069185\n",
       "Satır3  0.774381  0.166051  0.203464"
      ]
     },
     "execution_count": 52,
     "metadata": {},
     "output_type": "execute_result"
    }
   ],
   "source": [
    "yeniDataFrame"
   ]
  },
  {
   "cell_type": "code",
   "execution_count": 55,
   "metadata": {},
   "outputs": [
    {
     "data": {
      "text/html": [
       "<div>\n",
       "<style scoped>\n",
       "    .dataframe tbody tr th:only-of-type {\n",
       "        vertical-align: middle;\n",
       "    }\n",
       "\n",
       "    .dataframe tbody tr th {\n",
       "        vertical-align: top;\n",
       "    }\n",
       "\n",
       "    .dataframe thead th {\n",
       "        text-align: right;\n",
       "    }\n",
       "</style>\n",
       "<table border=\"1\" class=\"dataframe\">\n",
       "  <thead>\n",
       "    <tr style=\"text-align: right;\">\n",
       "      <th></th>\n",
       "      <th>index</th>\n",
       "      <th>Kolon1</th>\n",
       "      <th>Kolon2</th>\n",
       "      <th>Kolon3</th>\n",
       "    </tr>\n",
       "  </thead>\n",
       "  <tbody>\n",
       "    <tr>\n",
       "      <th>0</th>\n",
       "      <td>Satır1</td>\n",
       "      <td>0.936020</td>\n",
       "      <td>0.181862</td>\n",
       "      <td>0.440229</td>\n",
       "    </tr>\n",
       "    <tr>\n",
       "      <th>1</th>\n",
       "      <td>Satır2</td>\n",
       "      <td>0.449130</td>\n",
       "      <td>0.674947</td>\n",
       "      <td>0.069185</td>\n",
       "    </tr>\n",
       "    <tr>\n",
       "      <th>2</th>\n",
       "      <td>Satır3</td>\n",
       "      <td>0.774381</td>\n",
       "      <td>0.166051</td>\n",
       "      <td>0.203464</td>\n",
       "    </tr>\n",
       "  </tbody>\n",
       "</table>\n",
       "</div>"
      ],
      "text/plain": [
       "    index    Kolon1    Kolon2    Kolon3\n",
       "0  Satır1  0.936020  0.181862  0.440229\n",
       "1  Satır2  0.449130  0.674947  0.069185\n",
       "2  Satır3  0.774381  0.166051  0.203464"
      ]
     },
     "execution_count": 55,
     "metadata": {},
     "output_type": "execute_result"
    }
   ],
   "source": [
    "yeniDataFrame.reset_index() #resetle index"
   ]
  },
  {
   "cell_type": "code",
   "execution_count": 56,
   "metadata": {},
   "outputs": [
    {
     "data": {
      "text/html": [
       "<div>\n",
       "<style scoped>\n",
       "    .dataframe tbody tr th:only-of-type {\n",
       "        vertical-align: middle;\n",
       "    }\n",
       "\n",
       "    .dataframe tbody tr th {\n",
       "        vertical-align: top;\n",
       "    }\n",
       "\n",
       "    .dataframe thead th {\n",
       "        text-align: right;\n",
       "    }\n",
       "</style>\n",
       "<table border=\"1\" class=\"dataframe\">\n",
       "  <thead>\n",
       "    <tr style=\"text-align: right;\">\n",
       "      <th></th>\n",
       "      <th>Kolon1</th>\n",
       "      <th>Kolon2</th>\n",
       "      <th>Kolon3</th>\n",
       "    </tr>\n",
       "  </thead>\n",
       "  <tbody>\n",
       "    <tr>\n",
       "      <th>Satır1</th>\n",
       "      <td>0.936020</td>\n",
       "      <td>0.181862</td>\n",
       "      <td>0.440229</td>\n",
       "    </tr>\n",
       "    <tr>\n",
       "      <th>Satır2</th>\n",
       "      <td>0.449130</td>\n",
       "      <td>0.674947</td>\n",
       "      <td>0.069185</td>\n",
       "    </tr>\n",
       "    <tr>\n",
       "      <th>Satır3</th>\n",
       "      <td>0.774381</td>\n",
       "      <td>0.166051</td>\n",
       "      <td>0.203464</td>\n",
       "    </tr>\n",
       "  </tbody>\n",
       "</table>\n",
       "</div>"
      ],
      "text/plain": [
       "          Kolon1    Kolon2    Kolon3\n",
       "Satır1  0.936020  0.181862  0.440229\n",
       "Satır2  0.449130  0.674947  0.069185\n",
       "Satır3  0.774381  0.166051  0.203464"
      ]
     },
     "execution_count": 56,
     "metadata": {},
     "output_type": "execute_result"
    }
   ],
   "source": [
    "yeniDataFrame"
   ]
  },
  {
   "cell_type": "code",
   "execution_count": 60,
   "metadata": {},
   "outputs": [],
   "source": [
    "yeniIndexListesi = [\"A\",\"B\",\"C\"]"
   ]
  },
  {
   "cell_type": "code",
   "execution_count": 61,
   "metadata": {},
   "outputs": [],
   "source": [
    "yeniDataFrame[\"Yeni Indeks\"] = yeniIndexListesi"
   ]
  },
  {
   "cell_type": "code",
   "execution_count": 62,
   "metadata": {},
   "outputs": [
    {
     "data": {
      "text/html": [
       "<div>\n",
       "<style scoped>\n",
       "    .dataframe tbody tr th:only-of-type {\n",
       "        vertical-align: middle;\n",
       "    }\n",
       "\n",
       "    .dataframe tbody tr th {\n",
       "        vertical-align: top;\n",
       "    }\n",
       "\n",
       "    .dataframe thead th {\n",
       "        text-align: right;\n",
       "    }\n",
       "</style>\n",
       "<table border=\"1\" class=\"dataframe\">\n",
       "  <thead>\n",
       "    <tr style=\"text-align: right;\">\n",
       "      <th></th>\n",
       "      <th>Kolon1</th>\n",
       "      <th>Kolon2</th>\n",
       "      <th>Kolon3</th>\n",
       "      <th>Yeni Indeks</th>\n",
       "    </tr>\n",
       "  </thead>\n",
       "  <tbody>\n",
       "    <tr>\n",
       "      <th>Satır1</th>\n",
       "      <td>0.936020</td>\n",
       "      <td>0.181862</td>\n",
       "      <td>0.440229</td>\n",
       "      <td>A</td>\n",
       "    </tr>\n",
       "    <tr>\n",
       "      <th>Satır2</th>\n",
       "      <td>0.449130</td>\n",
       "      <td>0.674947</td>\n",
       "      <td>0.069185</td>\n",
       "      <td>B</td>\n",
       "    </tr>\n",
       "    <tr>\n",
       "      <th>Satır3</th>\n",
       "      <td>0.774381</td>\n",
       "      <td>0.166051</td>\n",
       "      <td>0.203464</td>\n",
       "      <td>C</td>\n",
       "    </tr>\n",
       "  </tbody>\n",
       "</table>\n",
       "</div>"
      ],
      "text/plain": [
       "          Kolon1    Kolon2    Kolon3 Yeni Indeks\n",
       "Satır1  0.936020  0.181862  0.440229           A\n",
       "Satır2  0.449130  0.674947  0.069185           B\n",
       "Satır3  0.774381  0.166051  0.203464           C"
      ]
     },
     "execution_count": 62,
     "metadata": {},
     "output_type": "execute_result"
    }
   ],
   "source": [
    "yeniDataFrame"
   ]
  },
  {
   "cell_type": "code",
   "execution_count": 63,
   "metadata": {},
   "outputs": [
    {
     "data": {
      "text/html": [
       "<div>\n",
       "<style scoped>\n",
       "    .dataframe tbody tr th:only-of-type {\n",
       "        vertical-align: middle;\n",
       "    }\n",
       "\n",
       "    .dataframe tbody tr th {\n",
       "        vertical-align: top;\n",
       "    }\n",
       "\n",
       "    .dataframe thead th {\n",
       "        text-align: right;\n",
       "    }\n",
       "</style>\n",
       "<table border=\"1\" class=\"dataframe\">\n",
       "  <thead>\n",
       "    <tr style=\"text-align: right;\">\n",
       "      <th></th>\n",
       "      <th>Kolon1</th>\n",
       "      <th>Kolon2</th>\n",
       "      <th>Kolon3</th>\n",
       "    </tr>\n",
       "    <tr>\n",
       "      <th>Yeni Indeks</th>\n",
       "      <th></th>\n",
       "      <th></th>\n",
       "      <th></th>\n",
       "    </tr>\n",
       "  </thead>\n",
       "  <tbody>\n",
       "    <tr>\n",
       "      <th>A</th>\n",
       "      <td>0.936020</td>\n",
       "      <td>0.181862</td>\n",
       "      <td>0.440229</td>\n",
       "    </tr>\n",
       "    <tr>\n",
       "      <th>B</th>\n",
       "      <td>0.449130</td>\n",
       "      <td>0.674947</td>\n",
       "      <td>0.069185</td>\n",
       "    </tr>\n",
       "    <tr>\n",
       "      <th>C</th>\n",
       "      <td>0.774381</td>\n",
       "      <td>0.166051</td>\n",
       "      <td>0.203464</td>\n",
       "    </tr>\n",
       "  </tbody>\n",
       "</table>\n",
       "</div>"
      ],
      "text/plain": [
       "               Kolon1    Kolon2    Kolon3\n",
       "Yeni Indeks                              \n",
       "A            0.936020  0.181862  0.440229\n",
       "B            0.449130  0.674947  0.069185\n",
       "C            0.774381  0.166051  0.203464"
      ]
     },
     "execution_count": 63,
     "metadata": {},
     "output_type": "execute_result"
    }
   ],
   "source": [
    "yeniDataFrame.set_index(\"Yeni Indeks\") #index sayarla"
   ]
  },
  {
   "cell_type": "code",
   "execution_count": 64,
   "metadata": {},
   "outputs": [
    {
     "data": {
      "text/html": [
       "<div>\n",
       "<style scoped>\n",
       "    .dataframe tbody tr th:only-of-type {\n",
       "        vertical-align: middle;\n",
       "    }\n",
       "\n",
       "    .dataframe tbody tr th {\n",
       "        vertical-align: top;\n",
       "    }\n",
       "\n",
       "    .dataframe thead th {\n",
       "        text-align: right;\n",
       "    }\n",
       "</style>\n",
       "<table border=\"1\" class=\"dataframe\">\n",
       "  <thead>\n",
       "    <tr style=\"text-align: right;\">\n",
       "      <th></th>\n",
       "      <th>Kolon1</th>\n",
       "      <th>Kolon2</th>\n",
       "      <th>Kolon3</th>\n",
       "      <th>Yeni Indeks</th>\n",
       "    </tr>\n",
       "  </thead>\n",
       "  <tbody>\n",
       "    <tr>\n",
       "      <th>Satır1</th>\n",
       "      <td>0.936020</td>\n",
       "      <td>0.181862</td>\n",
       "      <td>0.440229</td>\n",
       "      <td>A</td>\n",
       "    </tr>\n",
       "    <tr>\n",
       "      <th>Satır2</th>\n",
       "      <td>0.449130</td>\n",
       "      <td>0.674947</td>\n",
       "      <td>0.069185</td>\n",
       "      <td>B</td>\n",
       "    </tr>\n",
       "    <tr>\n",
       "      <th>Satır3</th>\n",
       "      <td>0.774381</td>\n",
       "      <td>0.166051</td>\n",
       "      <td>0.203464</td>\n",
       "      <td>C</td>\n",
       "    </tr>\n",
       "  </tbody>\n",
       "</table>\n",
       "</div>"
      ],
      "text/plain": [
       "          Kolon1    Kolon2    Kolon3 Yeni Indeks\n",
       "Satır1  0.936020  0.181862  0.440229           A\n",
       "Satır2  0.449130  0.674947  0.069185           B\n",
       "Satır3  0.774381  0.166051  0.203464           C"
      ]
     },
     "execution_count": 64,
     "metadata": {},
     "output_type": "execute_result"
    }
   ],
   "source": [
    "yeniDataFrame"
   ]
  },
  {
   "cell_type": "code",
   "execution_count": 65,
   "metadata": {},
   "outputs": [],
   "source": [
    "yeniDataFrame.set_index(\"Yeni Indeks\", inplace=True) #index sayarla"
   ]
  },
  {
   "cell_type": "code",
   "execution_count": 66,
   "metadata": {},
   "outputs": [
    {
     "data": {
      "text/html": [
       "<div>\n",
       "<style scoped>\n",
       "    .dataframe tbody tr th:only-of-type {\n",
       "        vertical-align: middle;\n",
       "    }\n",
       "\n",
       "    .dataframe tbody tr th {\n",
       "        vertical-align: top;\n",
       "    }\n",
       "\n",
       "    .dataframe thead th {\n",
       "        text-align: right;\n",
       "    }\n",
       "</style>\n",
       "<table border=\"1\" class=\"dataframe\">\n",
       "  <thead>\n",
       "    <tr style=\"text-align: right;\">\n",
       "      <th></th>\n",
       "      <th>Kolon1</th>\n",
       "      <th>Kolon2</th>\n",
       "      <th>Kolon3</th>\n",
       "    </tr>\n",
       "    <tr>\n",
       "      <th>Yeni Indeks</th>\n",
       "      <th></th>\n",
       "      <th></th>\n",
       "      <th></th>\n",
       "    </tr>\n",
       "  </thead>\n",
       "  <tbody>\n",
       "    <tr>\n",
       "      <th>A</th>\n",
       "      <td>0.936020</td>\n",
       "      <td>0.181862</td>\n",
       "      <td>0.440229</td>\n",
       "    </tr>\n",
       "    <tr>\n",
       "      <th>B</th>\n",
       "      <td>0.449130</td>\n",
       "      <td>0.674947</td>\n",
       "      <td>0.069185</td>\n",
       "    </tr>\n",
       "    <tr>\n",
       "      <th>C</th>\n",
       "      <td>0.774381</td>\n",
       "      <td>0.166051</td>\n",
       "      <td>0.203464</td>\n",
       "    </tr>\n",
       "  </tbody>\n",
       "</table>\n",
       "</div>"
      ],
      "text/plain": [
       "               Kolon1    Kolon2    Kolon3\n",
       "Yeni Indeks                              \n",
       "A            0.936020  0.181862  0.440229\n",
       "B            0.449130  0.674947  0.069185\n",
       "C            0.774381  0.166051  0.203464"
      ]
     },
     "execution_count": 66,
     "metadata": {},
     "output_type": "execute_result"
    }
   ],
   "source": [
    "yeniDataFrame"
   ]
  },
  {
   "cell_type": "code",
   "execution_count": 69,
   "metadata": {},
   "outputs": [
    {
     "data": {
      "text/plain": [
       "Kolon1    0.936020\n",
       "Kolon2    0.181862\n",
       "Kolon3    0.440229\n",
       "Name: A, dtype: float64"
      ]
     },
     "execution_count": 69,
     "metadata": {},
     "output_type": "execute_result"
    }
   ],
   "source": [
    "yeniDataFrame.loc[\"A\"]"
   ]
  }
 ],
 "metadata": {
  "kernelspec": {
   "display_name": "Python 3",
   "language": "python",
   "name": "python3"
  },
  "language_info": {
   "codemirror_mode": {
    "name": "ipython",
    "version": 3
   },
   "file_extension": ".py",
   "mimetype": "text/x-python",
   "name": "python",
   "nbconvert_exporter": "python",
   "pygments_lexer": "ipython3",
   "version": "3.9.2"
  },
  "orig_nbformat": 4
 },
 "nbformat": 4,
 "nbformat_minor": 2
}
